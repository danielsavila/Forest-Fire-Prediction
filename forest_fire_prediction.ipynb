{
 "cells": [
  {
   "cell_type": "code",
   "execution_count": null,
   "metadata": {},
   "outputs": [],
   "source": [
    "# data was accessed from kaggle at the following link on 3-28-25\n",
    "# https://www.kaggle.com/datasets/rtatman/188-million-us-wildfires\n",
    "import os\n",
    "import pandas as pd\n",
    "import numpy as np\n",
    "import matplotlib.pyplot as plt\n",
    "import seaborn as sns\n",
    "from sklearn.tree import DecisionTreeRegressor, plot_tree\n",
    "from sklearn.model_selection import KFold, GridSearchCV, train_test_split, RandomizedSearchCV\n",
    "from sklearn.metrics import mean_squared_error, RocCurveDisplay, roc_auc_score, roc_curve\n",
    "from sklearn.ensemble import RandomForestRegressor\n",
    "import warnings\n",
    "\n",
    "warnings.filterwarnings(\"ignore\", category=DeprecationWarning)\n",
    "warnings.filterwarnings(\"ignore\", category=FutureWarning)\n",
    "np.set_printoptions(precision=10, suppress=True)\n",
    "\n",
    "\n",
    "os.chdir(\"c:/Users/AVILA/OneDrive/Documents/GitHub/Forest-fire-project\")\n",
    "\n",
    "df = pd.read_csv(\"fires_data.csv\", low_memory = False)"
   ]
  },
  {
   "cell_type": "markdown",
   "metadata": {},
   "source": [
    "ok so we have the id for the fire, the fire name, the year of the fire, the date and time the fire was discovered, the cause of the fire, location of the fire, fire size, and the state that the fire occurred in. \n",
    "\n",
    "what if we did just, using the state, cause, and day of the year, can we predict how large the fire is going to be?"
   ]
  },
  {
   "cell_type": "markdown",
   "metadata": {},
   "source": [
    "I have a column that indicates the day of the year that the fire was identified, but I cannot use that as a numeric value because the algorithm will use that as an ordinal value. Instead, I convert the \"doy\" column (day of the year) to a season indicator of Spring, Summer, Fall, Winter, with an even split of 91 days."
   ]
  },
  {
   "cell_type": "code",
   "execution_count": 2,
   "metadata": {},
   "outputs": [
    {
     "data": {
      "text/html": [
       "<div>\n",
       "<style scoped>\n",
       "    .dataframe tbody tr th:only-of-type {\n",
       "        vertical-align: middle;\n",
       "    }\n",
       "\n",
       "    .dataframe tbody tr th {\n",
       "        vertical-align: top;\n",
       "    }\n",
       "\n",
       "    .dataframe thead th {\n",
       "        text-align: right;\n",
       "    }\n",
       "</style>\n",
       "<table border=\"1\" class=\"dataframe\">\n",
       "  <thead>\n",
       "    <tr style=\"text-align: right;\">\n",
       "      <th></th>\n",
       "      <th>doy</th>\n",
       "      <th>year</th>\n",
       "      <th>cause_code</th>\n",
       "      <th>cause</th>\n",
       "      <th>fire_size</th>\n",
       "      <th>longitude</th>\n",
       "      <th>latitude</th>\n",
       "      <th>state</th>\n",
       "      <th>season</th>\n",
       "    </tr>\n",
       "  </thead>\n",
       "  <tbody>\n",
       "    <tr>\n",
       "      <th>0</th>\n",
       "      <td>33</td>\n",
       "      <td>2005</td>\n",
       "      <td>9.0</td>\n",
       "      <td>Miscellaneous</td>\n",
       "      <td>0.10</td>\n",
       "      <td>-121.005833</td>\n",
       "      <td>40.036944</td>\n",
       "      <td>CA</td>\n",
       "      <td>Q1</td>\n",
       "    </tr>\n",
       "    <tr>\n",
       "      <th>1</th>\n",
       "      <td>133</td>\n",
       "      <td>2004</td>\n",
       "      <td>1.0</td>\n",
       "      <td>Lightning</td>\n",
       "      <td>0.25</td>\n",
       "      <td>-120.404444</td>\n",
       "      <td>38.933056</td>\n",
       "      <td>CA</td>\n",
       "      <td>Q2</td>\n",
       "    </tr>\n",
       "    <tr>\n",
       "      <th>2</th>\n",
       "      <td>152</td>\n",
       "      <td>2004</td>\n",
       "      <td>5.0</td>\n",
       "      <td>Debris Burning</td>\n",
       "      <td>0.10</td>\n",
       "      <td>-120.735556</td>\n",
       "      <td>38.984167</td>\n",
       "      <td>CA</td>\n",
       "      <td>Q2</td>\n",
       "    </tr>\n",
       "    <tr>\n",
       "      <th>3</th>\n",
       "      <td>180</td>\n",
       "      <td>2004</td>\n",
       "      <td>1.0</td>\n",
       "      <td>Lightning</td>\n",
       "      <td>0.10</td>\n",
       "      <td>-119.913333</td>\n",
       "      <td>38.559167</td>\n",
       "      <td>CA</td>\n",
       "      <td>Q2</td>\n",
       "    </tr>\n",
       "    <tr>\n",
       "      <th>4</th>\n",
       "      <td>180</td>\n",
       "      <td>2004</td>\n",
       "      <td>1.0</td>\n",
       "      <td>Lightning</td>\n",
       "      <td>0.10</td>\n",
       "      <td>-119.933056</td>\n",
       "      <td>38.559167</td>\n",
       "      <td>CA</td>\n",
       "      <td>Q2</td>\n",
       "    </tr>\n",
       "  </tbody>\n",
       "</table>\n",
       "</div>"
      ],
      "text/plain": [
       "   doy  year  cause_code           cause  fire_size   longitude   latitude  \\\n",
       "0   33  2005         9.0   Miscellaneous       0.10 -121.005833  40.036944   \n",
       "1  133  2004         1.0       Lightning       0.25 -120.404444  38.933056   \n",
       "2  152  2004         5.0  Debris Burning       0.10 -120.735556  38.984167   \n",
       "3  180  2004         1.0       Lightning       0.10 -119.913333  38.559167   \n",
       "4  180  2004         1.0       Lightning       0.10 -119.933056  38.559167   \n",
       "\n",
       "  state season  \n",
       "0    CA     Q1  \n",
       "1    CA     Q2  \n",
       "2    CA     Q2  \n",
       "3    CA     Q2  \n",
       "4    CA     Q2  "
      ]
     },
     "execution_count": 2,
     "metadata": {},
     "output_type": "execute_result"
    }
   ],
   "source": [
    "fires = pd.DataFrame({\"doy\": df[\"DISCOVERY_DOY\"],\n",
    "            \"year\": df[\"FIRE_YEAR\"],\n",
    "            \"cause_code\": df[\"STAT_CAUSE_CODE\"],\n",
    "            \"cause\": df[\"STAT_CAUSE_DESCR\"],\n",
    "            \"fire_size\": df[\"FIRE_SIZE\"],\n",
    "            \"longitude\": df[\"LONGITUDE\"],\n",
    "            \"latitude\": df[\"LATITUDE\"],\n",
    "            \"state\": df[\"STATE\"]})\n",
    "\n",
    "fires[\"season\"] = np.where(fires[\"doy\"] < 91, \"Q1\", \"Q2\")\n",
    "fires.loc[(fires[\"doy\"] >=91*2) & (fires[\"doy\"] < 91*3), \"season\"] = \"Q3\"\n",
    "fires.loc[(fires[\"doy\"] >= 91*3), \"season\"] = \"Q4\"\n",
    "fires.head()"
   ]
  },
  {
   "cell_type": "code",
   "execution_count": 43,
   "metadata": {},
   "outputs": [
    {
     "data": {
      "text/html": [
       "<div>\n",
       "<style scoped>\n",
       "    .dataframe tbody tr th:only-of-type {\n",
       "        vertical-align: middle;\n",
       "    }\n",
       "\n",
       "    .dataframe tbody tr th {\n",
       "        vertical-align: top;\n",
       "    }\n",
       "\n",
       "    .dataframe thead th {\n",
       "        text-align: right;\n",
       "    }\n",
       "</style>\n",
       "<table border=\"1\" class=\"dataframe\">\n",
       "  <thead>\n",
       "    <tr style=\"text-align: right;\">\n",
       "      <th></th>\n",
       "      <th></th>\n",
       "      <th>doy</th>\n",
       "      <th>year</th>\n",
       "      <th>cause_code</th>\n",
       "      <th>fire_size</th>\n",
       "      <th>longitude</th>\n",
       "      <th>latitude</th>\n",
       "      <th>state</th>\n",
       "    </tr>\n",
       "    <tr>\n",
       "      <th>cause</th>\n",
       "      <th>season</th>\n",
       "      <th></th>\n",
       "      <th></th>\n",
       "      <th></th>\n",
       "      <th></th>\n",
       "      <th></th>\n",
       "      <th></th>\n",
       "      <th></th>\n",
       "    </tr>\n",
       "  </thead>\n",
       "  <tbody>\n",
       "    <tr>\n",
       "      <th rowspan=\"4\" valign=\"top\">Arson</th>\n",
       "      <th>Q1</th>\n",
       "      <td>92938</td>\n",
       "      <td>92938</td>\n",
       "      <td>92938</td>\n",
       "      <td>92938</td>\n",
       "      <td>92938</td>\n",
       "      <td>92938</td>\n",
       "      <td>92938</td>\n",
       "    </tr>\n",
       "    <tr>\n",
       "      <th>Q2</th>\n",
       "      <td>85922</td>\n",
       "      <td>85922</td>\n",
       "      <td>85922</td>\n",
       "      <td>85922</td>\n",
       "      <td>85922</td>\n",
       "      <td>85922</td>\n",
       "      <td>85922</td>\n",
       "    </tr>\n",
       "    <tr>\n",
       "      <th>Q3</th>\n",
       "      <td>50181</td>\n",
       "      <td>50181</td>\n",
       "      <td>50181</td>\n",
       "      <td>50181</td>\n",
       "      <td>50181</td>\n",
       "      <td>50181</td>\n",
       "      <td>50181</td>\n",
       "    </tr>\n",
       "    <tr>\n",
       "      <th>Q4</th>\n",
       "      <td>52414</td>\n",
       "      <td>52414</td>\n",
       "      <td>52414</td>\n",
       "      <td>52414</td>\n",
       "      <td>52414</td>\n",
       "      <td>52414</td>\n",
       "      <td>52414</td>\n",
       "    </tr>\n",
       "    <tr>\n",
       "      <th rowspan=\"4\" valign=\"top\">Campfire</th>\n",
       "      <th>Q1</th>\n",
       "      <td>12239</td>\n",
       "      <td>12239</td>\n",
       "      <td>12239</td>\n",
       "      <td>12239</td>\n",
       "      <td>12239</td>\n",
       "      <td>12239</td>\n",
       "      <td>12239</td>\n",
       "    </tr>\n",
       "    <tr>\n",
       "      <th>Q2</th>\n",
       "      <td>22936</td>\n",
       "      <td>22936</td>\n",
       "      <td>22936</td>\n",
       "      <td>22936</td>\n",
       "      <td>22936</td>\n",
       "      <td>22936</td>\n",
       "      <td>22936</td>\n",
       "    </tr>\n",
       "    <tr>\n",
       "      <th>Q3</th>\n",
       "      <td>28196</td>\n",
       "      <td>28196</td>\n",
       "      <td>28196</td>\n",
       "      <td>28196</td>\n",
       "      <td>28196</td>\n",
       "      <td>28196</td>\n",
       "      <td>28196</td>\n",
       "    </tr>\n",
       "    <tr>\n",
       "      <th>Q4</th>\n",
       "      <td>12768</td>\n",
       "      <td>12768</td>\n",
       "      <td>12768</td>\n",
       "      <td>12768</td>\n",
       "      <td>12768</td>\n",
       "      <td>12768</td>\n",
       "      <td>12768</td>\n",
       "    </tr>\n",
       "    <tr>\n",
       "      <th rowspan=\"4\" valign=\"top\">Children</th>\n",
       "      <th>Q1</th>\n",
       "      <td>15126</td>\n",
       "      <td>15126</td>\n",
       "      <td>15126</td>\n",
       "      <td>15126</td>\n",
       "      <td>15126</td>\n",
       "      <td>15126</td>\n",
       "      <td>15126</td>\n",
       "    </tr>\n",
       "    <tr>\n",
       "      <th>Q2</th>\n",
       "      <td>23955</td>\n",
       "      <td>23955</td>\n",
       "      <td>23955</td>\n",
       "      <td>23955</td>\n",
       "      <td>23955</td>\n",
       "      <td>23955</td>\n",
       "      <td>23955</td>\n",
       "    </tr>\n",
       "    <tr>\n",
       "      <th>Q3</th>\n",
       "      <td>13887</td>\n",
       "      <td>13887</td>\n",
       "      <td>13887</td>\n",
       "      <td>13887</td>\n",
       "      <td>13887</td>\n",
       "      <td>13887</td>\n",
       "      <td>13887</td>\n",
       "    </tr>\n",
       "    <tr>\n",
       "      <th>Q4</th>\n",
       "      <td>8199</td>\n",
       "      <td>8199</td>\n",
       "      <td>8199</td>\n",
       "      <td>8199</td>\n",
       "      <td>8199</td>\n",
       "      <td>8199</td>\n",
       "      <td>8199</td>\n",
       "    </tr>\n",
       "  </tbody>\n",
       "</table>\n",
       "</div>"
      ],
      "text/plain": [
       "                   doy   year  cause_code  fire_size  longitude  latitude  \\\n",
       "cause    season                                                             \n",
       "Arson    Q1      92938  92938       92938      92938      92938     92938   \n",
       "         Q2      85922  85922       85922      85922      85922     85922   \n",
       "         Q3      50181  50181       50181      50181      50181     50181   \n",
       "         Q4      52414  52414       52414      52414      52414     52414   \n",
       "Campfire Q1      12239  12239       12239      12239      12239     12239   \n",
       "         Q2      22936  22936       22936      22936      22936     22936   \n",
       "         Q3      28196  28196       28196      28196      28196     28196   \n",
       "         Q4      12768  12768       12768      12768      12768     12768   \n",
       "Children Q1      15126  15126       15126      15126      15126     15126   \n",
       "         Q2      23955  23955       23955      23955      23955     23955   \n",
       "         Q3      13887  13887       13887      13887      13887     13887   \n",
       "         Q4       8199   8199        8199       8199       8199      8199   \n",
       "\n",
       "                 state  \n",
       "cause    season         \n",
       "Arson    Q1      92938  \n",
       "         Q2      85922  \n",
       "         Q3      50181  \n",
       "         Q4      52414  \n",
       "Campfire Q1      12239  \n",
       "         Q2      22936  \n",
       "         Q3      28196  \n",
       "         Q4      12768  \n",
       "Children Q1      15126  \n",
       "         Q2      23955  \n",
       "         Q3      13887  \n",
       "         Q4       8199  "
      ]
     },
     "execution_count": 43,
     "metadata": {},
     "output_type": "execute_result"
    }
   ],
   "source": [
    "fires.groupby([\"cause\", \"season\"]).count().head(12)"
   ]
  },
  {
   "cell_type": "code",
   "execution_count": 4,
   "metadata": {},
   "outputs": [
    {
     "data": {
      "text/plain": [
       "<Axes: xlabel='Count', ylabel='cause'>"
      ]
     },
     "execution_count": 4,
     "metadata": {},
     "output_type": "execute_result"
    },
    {
     "data": {
      "image/png": "[encoded data removed]",
      "text/plain": [
       "<Figure size 640x480 with 1 Axes>"
      ]
     },
     "metadata": {},
     "output_type": "display_data"
    }
   ],
   "source": [
    "sns.histplot(fires, y = \"cause\")"
   ]
  },
  {
   "cell_type": "code",
   "execution_count": 38,
   "metadata": {},
   "outputs": [
    {
     "data": {
      "text/html": [
       "<div>\n",
       "<style scoped>\n",
       "    .dataframe tbody tr th:only-of-type {\n",
       "        vertical-align: middle;\n",
       "    }\n",
       "\n",
       "    .dataframe tbody tr th {\n",
       "        vertical-align: top;\n",
       "    }\n",
       "\n",
       "    .dataframe thead th {\n",
       "        text-align: right;\n",
       "    }\n",
       "</style>\n",
       "<table border=\"1\" class=\"dataframe\">\n",
       "  <thead>\n",
       "    <tr style=\"text-align: right;\">\n",
       "      <th></th>\n",
       "      <th>state</th>\n",
       "      <th>mean</th>\n",
       "      <th>std</th>\n",
       "    </tr>\n",
       "  </thead>\n",
       "  <tbody>\n",
       "    <tr>\n",
       "      <th>0</th>\n",
       "      <td>AK</td>\n",
       "      <td>2509.779198</td>\n",
       "      <td>19600.650646</td>\n",
       "    </tr>\n",
       "    <tr>\n",
       "      <th>33</th>\n",
       "      <td>NV</td>\n",
       "      <td>531.720650</td>\n",
       "      <td>5888.665139</td>\n",
       "    </tr>\n",
       "    <tr>\n",
       "      <th>13</th>\n",
       "      <td>ID</td>\n",
       "      <td>372.890482</td>\n",
       "      <td>5643.331940</td>\n",
       "    </tr>\n",
       "    <tr>\n",
       "      <th>32</th>\n",
       "      <td>NM</td>\n",
       "      <td>170.234318</td>\n",
       "      <td>2858.989052</td>\n",
       "    </tr>\n",
       "    <tr>\n",
       "      <th>51</th>\n",
       "      <td>WY</td>\n",
       "      <td>169.523555</td>\n",
       "      <td>2195.531021</td>\n",
       "    </tr>\n",
       "  </tbody>\n",
       "</table>\n",
       "</div>"
      ],
      "text/plain": [
       "   state         mean           std\n",
       "0     AK  2509.779198  19600.650646\n",
       "33    NV   531.720650   5888.665139\n",
       "13    ID   372.890482   5643.331940\n",
       "32    NM   170.234318   2858.989052\n",
       "51    WY   169.523555   2195.531021"
      ]
     },
     "execution_count": 38,
     "metadata": {},
     "output_type": "execute_result"
    }
   ],
   "source": [
    "mean_fire_size_state = pd.DataFrame({\"mean\": fires.groupby(\"state\")[\"fire_size\"].mean()})\n",
    "std_fire_size_state = pd.DataFrame({\"std\": fires.groupby(\"state\")[\"fire_size\"].std()})\n",
    "fire_size_state = mean_fire_size_state.merge(std_fire_size_state, how = \"left\", on = \"state\").reset_index().sort_values(by = \"mean\", ascending = False)\n",
    "fire_size_state.head()\n"
   ]
  },
  {
   "cell_type": "code",
   "execution_count": 44,
   "metadata": {},
   "outputs": [],
   "source": [
    "fires_binary_copy = fires.copy()\n",
    "fires_binary_copy = pd.get_dummies(fires_binary_copy, columns = [\"state\", \"season\"])\n",
    "fires_binary_copy = fires_binary_copy.drop([\"doy\", \"longitude\", \"latitude\", \"cause\"], axis = 1)\n",
    "\n",
    "# I am cutting down the size of the dataset due to the excessive time it takes to train the following models. \n",
    "\n",
    "fires_binary_copy = fires_binary_copy.sample(n = 100000, random_state = 20)"
   ]
  },
  {
   "cell_type": "code",
   "execution_count": 45,
   "metadata": {},
   "outputs": [
    {
     "data": {
      "text/html": [
       "<style>#sk-container-id-10 {color: black;background-color: white;}#sk-container-id-10 pre{padding: 0;}#sk-container-id-10 div.sk-toggleable {background-color: white;}#sk-container-id-10 label.sk-toggleable__label {cursor: pointer;display: block;width: 100%;margin-bottom: 0;padding: 0.3em;box-sizing: border-box;text-align: center;}#sk-container-id-10 label.sk-toggleable__label-arrow:before {content: \"▸\";float: left;margin-right: 0.25em;color: #696969;}#sk-container-id-10 label.sk-toggleable__label-arrow:hover:before {color: black;}#sk-container-id-10 div.sk-estimator:hover label.sk-toggleable__label-arrow:before {color: black;}#sk-container-id-10 div.sk-toggleable__content {max-height: 0;max-width: 0;overflow: hidden;text-align: left;background-color: #f0f8ff;}#sk-container-id-10 div.sk-toggleable__content pre {margin: 0.2em;color: black;border-radius: 0.25em;background-color: #f0f8ff;}#sk-container-id-10 input.sk-toggleable__control:checked~div.sk-toggleable__content {max-height: 200px;max-width: 100%;overflow: auto;}#sk-container-id-10 input.sk-toggleable__control:checked~label.sk-toggleable__label-arrow:before {content: \"▾\";}#sk-container-id-10 div.sk-estimator input.sk-toggleable__control:checked~label.sk-toggleable__label {background-color: #d4ebff;}#sk-container-id-10 div.sk-label input.sk-toggleable__control:checked~label.sk-toggleable__label {background-color: #d4ebff;}#sk-container-id-10 input.sk-hidden--visually {border: 0;clip: rect(1px 1px 1px 1px);clip: rect(1px, 1px, 1px, 1px);height: 1px;margin: -1px;overflow: hidden;padding: 0;position: absolute;width: 1px;}#sk-container-id-10 div.sk-estimator {font-family: monospace;background-color: #f0f8ff;border: 1px dotted black;border-radius: 0.25em;box-sizing: border-box;margin-bottom: 0.5em;}#sk-container-id-10 div.sk-estimator:hover {background-color: #d4ebff;}#sk-container-id-10 div.sk-parallel-item::after {content: \"\";width: 100%;border-bottom: 1px solid gray;flex-grow: 1;}#sk-container-id-10 div.sk-label:hover label.sk-toggleable__label {background-color: #d4ebff;}#sk-container-id-10 div.sk-serial::before {content: \"\";position: absolute;border-left: 1px solid gray;box-sizing: border-box;top: 0;bottom: 0;left: 50%;z-index: 0;}#sk-container-id-10 div.sk-serial {display: flex;flex-direction: column;align-items: center;background-color: white;padding-right: 0.2em;padding-left: 0.2em;position: relative;}#sk-container-id-10 div.sk-item {position: relative;z-index: 1;}#sk-container-id-10 div.sk-parallel {display: flex;align-items: stretch;justify-content: center;background-color: white;position: relative;}#sk-container-id-10 div.sk-item::before, #sk-container-id-10 div.sk-parallel-item::before {content: \"\";position: absolute;border-left: 1px solid gray;box-sizing: border-box;top: 0;bottom: 0;left: 50%;z-index: -1;}#sk-container-id-10 div.sk-parallel-item {display: flex;flex-direction: column;z-index: 1;position: relative;background-color: white;}#sk-container-id-10 div.sk-parallel-item:first-child::after {align-self: flex-end;width: 50%;}#sk-container-id-10 div.sk-parallel-item:last-child::after {align-self: flex-start;width: 50%;}#sk-container-id-10 div.sk-parallel-item:only-child::after {width: 0;}#sk-container-id-10 div.sk-dashed-wrapped {border: 1px dashed gray;margin: 0 0.4em 0.5em 0.4em;box-sizing: border-box;padding-bottom: 0.4em;background-color: white;}#sk-container-id-10 div.sk-label label {font-family: monospace;font-weight: bold;display: inline-block;line-height: 1.2em;}#sk-container-id-10 div.sk-label-container {text-align: center;}#sk-container-id-10 div.sk-container {/* jupyter's `normalize.less` sets `[hidden] { display: none; }` but bootstrap.min.css set `[hidden] { display: none !important; }` so we also need the `!important` here to be able to override the default hidden behavior on the sphinx rendered scikit-learn.org. See: https://github.com/scikit-learn/scikit-learn/issues/21755 */display: inline-block !important;position: relative;}#sk-container-id-10 div.sk-text-repr-fallback {display: none;}</style><div id=\"sk-container-id-10\" class=\"sk-top-container\"><div class=\"sk-text-repr-fallback\"><pre>DecisionTreeRegressor(max_depth=3, min_impurity_decrease=0.47575268405469684)</pre><b>In a Jupyter environment, please rerun this cell to show the HTML representation or trust the notebook. <br />On GitHub, the HTML representation is unable to render, please try loading this page with nbviewer.org.</b></div><div class=\"sk-container\" hidden><div class=\"sk-item\"><div class=\"sk-estimator sk-toggleable\"><input class=\"sk-toggleable__control sk-hidden--visually\" id=\"sk-estimator-id-10\" type=\"checkbox\" checked><label for=\"sk-estimator-id-10\" class=\"sk-toggleable__label sk-toggleable__label-arrow\">DecisionTreeRegressor</label><div class=\"sk-toggleable__content\"><pre>DecisionTreeRegressor(max_depth=3, min_impurity_decrease=0.47575268405469684)</pre></div></div></div></div></div>"
      ],
      "text/plain": [
       "DecisionTreeRegressor(max_depth=3, min_impurity_decrease=0.47575268405469684)"
      ]
     },
     "execution_count": 45,
     "metadata": {},
     "output_type": "execute_result"
    }
   ],
   "source": [
    "X_train, X_test, y_train, y_test = train_test_split(fires_binary_copy.loc[:, fires_binary_copy.columns != \"fire_size\"],\n",
    "                                                    fires_binary_copy[\"fire_size\"], \n",
    "                                                    test_size = .3, \n",
    "                                                    shuffle = True,\n",
    "                                                    random_state = 20)\n",
    "\n",
    "tree = DecisionTreeRegressor()\n",
    "impurity_decrease = np.power(np.linspace(.0001, 10, 30), 2)\n",
    "depth = np.linspace(3, 20, 17).astype(int)\n",
    "parameters = {\"min_impurity_decrease\": impurity_decrease,\n",
    "              \"max_depth\": depth}\n",
    "kfcv = KFold()\n",
    "cvgs = RandomizedSearchCV(tree, parameters, cv = kfcv, n_jobs = -1, n_iter = 50, random_state = 20)\n",
    "\n",
    "cvgs.fit(X_train, y_train)\n",
    "cvgs.best_estimator_"
   ]
  },
  {
   "cell_type": "code",
   "execution_count": 46,
   "metadata": {},
   "outputs": [
    {
     "name": "stdout",
     "output_type": "stream",
     "text": [
      "mean training error in acres: 2004.95\n",
      "mean test error in acres: 1993.27\n"
     ]
    }
   ],
   "source": [
    "#fitting the full decision tree on the training data validate using the test data.\n",
    "tree = DecisionTreeRegressor(min_impurity_decrease = .475752684, max_depth = 3)\n",
    "tree.fit(X_train, y_train)\n",
    "y_pred = tree.predict(X_test)\n",
    "y_pred_train = tree.predict(X_train)\n",
    "\n",
    "train_mse = mean_squared_error(y_train, y_pred_train)\n",
    "test_mse = mean_squared_error(y_test, y_pred)\n",
    "\n",
    "print(\"mean training error in acres:\", round(np.sqrt(train_mse), 2))\n",
    "print(\"mean test error in acres:\", round(np.sqrt(test_mse), 2))"
   ]
  },
  {
   "cell_type": "code",
   "execution_count": 47,
   "metadata": {},
   "outputs": [
    {
     "data": {
      "image/png": "[encoded data removed]",
      "text/plain": [
       "<Figure size 640x480 with 1 Axes>"
      ]
     },
     "metadata": {},
     "output_type": "display_data"
    }
   ],
   "source": [
    "plot_tree(tree, filled = True, feature_names = X_train.columns)\n",
    "plt.show()"
   ]
  },
  {
   "cell_type": "markdown",
   "metadata": {},
   "source": [
    "The Decision Tree model as it currently stands is predicting with an average error of 1993.27 acres, which translates to approximately 3.12 square miles. \n",
    "\n",
    "Now we test to see how the decision tree does relative to a random forest model..."
   ]
  },
  {
   "cell_type": "code",
   "execution_count": 48,
   "metadata": {},
   "outputs": [
    {
     "data": {
      "text/html": [
       "<style>#sk-container-id-11 {color: black;background-color: white;}#sk-container-id-11 pre{padding: 0;}#sk-container-id-11 div.sk-toggleable {background-color: white;}#sk-container-id-11 label.sk-toggleable__label {cursor: pointer;display: block;width: 100%;margin-bottom: 0;padding: 0.3em;box-sizing: border-box;text-align: center;}#sk-container-id-11 label.sk-toggleable__label-arrow:before {content: \"▸\";float: left;margin-right: 0.25em;color: #696969;}#sk-container-id-11 label.sk-toggleable__label-arrow:hover:before {color: black;}#sk-container-id-11 div.sk-estimator:hover label.sk-toggleable__label-arrow:before {color: black;}#sk-container-id-11 div.sk-toggleable__content {max-height: 0;max-width: 0;overflow: hidden;text-align: left;background-color: #f0f8ff;}#sk-container-id-11 div.sk-toggleable__content pre {margin: 0.2em;color: black;border-radius: 0.25em;background-color: #f0f8ff;}#sk-container-id-11 input.sk-toggleable__control:checked~div.sk-toggleable__content {max-height: 200px;max-width: 100%;overflow: auto;}#sk-container-id-11 input.sk-toggleable__control:checked~label.sk-toggleable__label-arrow:before {content: \"▾\";}#sk-container-id-11 div.sk-estimator input.sk-toggleable__control:checked~label.sk-toggleable__label {background-color: #d4ebff;}#sk-container-id-11 div.sk-label input.sk-toggleable__control:checked~label.sk-toggleable__label {background-color: #d4ebff;}#sk-container-id-11 input.sk-hidden--visually {border: 0;clip: rect(1px 1px 1px 1px);clip: rect(1px, 1px, 1px, 1px);height: 1px;margin: -1px;overflow: hidden;padding: 0;position: absolute;width: 1px;}#sk-container-id-11 div.sk-estimator {font-family: monospace;background-color: #f0f8ff;border: 1px dotted black;border-radius: 0.25em;box-sizing: border-box;margin-bottom: 0.5em;}#sk-container-id-11 div.sk-estimator:hover {background-color: #d4ebff;}#sk-container-id-11 div.sk-parallel-item::after {content: \"\";width: 100%;border-bottom: 1px solid gray;flex-grow: 1;}#sk-container-id-11 div.sk-label:hover label.sk-toggleable__label {background-color: #d4ebff;}#sk-container-id-11 div.sk-serial::before {content: \"\";position: absolute;border-left: 1px solid gray;box-sizing: border-box;top: 0;bottom: 0;left: 50%;z-index: 0;}#sk-container-id-11 div.sk-serial {display: flex;flex-direction: column;align-items: center;background-color: white;padding-right: 0.2em;padding-left: 0.2em;position: relative;}#sk-container-id-11 div.sk-item {position: relative;z-index: 1;}#sk-container-id-11 div.sk-parallel {display: flex;align-items: stretch;justify-content: center;background-color: white;position: relative;}#sk-container-id-11 div.sk-item::before, #sk-container-id-11 div.sk-parallel-item::before {content: \"\";position: absolute;border-left: 1px solid gray;box-sizing: border-box;top: 0;bottom: 0;left: 50%;z-index: -1;}#sk-container-id-11 div.sk-parallel-item {display: flex;flex-direction: column;z-index: 1;position: relative;background-color: white;}#sk-container-id-11 div.sk-parallel-item:first-child::after {align-self: flex-end;width: 50%;}#sk-container-id-11 div.sk-parallel-item:last-child::after {align-self: flex-start;width: 50%;}#sk-container-id-11 div.sk-parallel-item:only-child::after {width: 0;}#sk-container-id-11 div.sk-dashed-wrapped {border: 1px dashed gray;margin: 0 0.4em 0.5em 0.4em;box-sizing: border-box;padding-bottom: 0.4em;background-color: white;}#sk-container-id-11 div.sk-label label {font-family: monospace;font-weight: bold;display: inline-block;line-height: 1.2em;}#sk-container-id-11 div.sk-label-container {text-align: center;}#sk-container-id-11 div.sk-container {/* jupyter's `normalize.less` sets `[hidden] { display: none; }` but bootstrap.min.css set `[hidden] { display: none !important; }` so we also need the `!important` here to be able to override the default hidden behavior on the sphinx rendered scikit-learn.org. See: https://github.com/scikit-learn/scikit-learn/issues/21755 */display: inline-block !important;position: relative;}#sk-container-id-11 div.sk-text-repr-fallback {display: none;}</style><div id=\"sk-container-id-11\" class=\"sk-top-container\"><div class=\"sk-text-repr-fallback\"><pre>RandomForestRegressor(max_depth=3, min_impurity_decrease=34.364337694934605)</pre><b>In a Jupyter environment, please rerun this cell to show the HTML representation or trust the notebook. <br />On GitHub, the HTML representation is unable to render, please try loading this page with nbviewer.org.</b></div><div class=\"sk-container\" hidden><div class=\"sk-item\"><div class=\"sk-estimator sk-toggleable\"><input class=\"sk-toggleable__control sk-hidden--visually\" id=\"sk-estimator-id-11\" type=\"checkbox\" checked><label for=\"sk-estimator-id-11\" class=\"sk-toggleable__label sk-toggleable__label-arrow\">RandomForestRegressor</label><div class=\"sk-toggleable__content\"><pre>RandomForestRegressor(max_depth=3, min_impurity_decrease=34.364337694934605)</pre></div></div></div></div></div>"
      ],
      "text/plain": [
       "RandomForestRegressor(max_depth=3, min_impurity_decrease=34.364337694934605)"
      ]
     },
     "execution_count": 48,
     "metadata": {},
     "output_type": "execute_result"
    }
   ],
   "source": [
    "random_forest = RandomForestRegressor()\n",
    "#the goal here is to do kfold cross validation, and we want to search over what regularization parameter for minimum split impurity gives us the best accuracy.\n",
    "# to find the best parameter, we use grid search, and to use grid search, we need to create a dictionary of parameters.\n",
    "# we use the same paramters for both min_impurity_decrease and max_depth as the decision tree model.\n",
    "\n",
    "kfcv = KFold()\n",
    "gscv = RandomizedSearchCV(random_forest, parameters, cv = kfcv, n_jobs = -1, n_iter = 50, random_state = 20)\n",
    "\n",
    "gscv.fit(X_train, y_train)\n",
    "gscv.best_estimator_"
   ]
  },
  {
   "cell_type": "code",
   "execution_count": 50,
   "metadata": {},
   "outputs": [
    {
     "name": "stdout",
     "output_type": "stream",
     "text": [
      "mean training error in acres: 2002.45\n",
      "mean test error in acres: 1997.16\n"
     ]
    }
   ],
   "source": [
    "random_forest = RandomForestRegressor(max_depth = 3, min_impurity_decrease = 34.36433769)\n",
    "random_forest.fit(X_train, y_train)\n",
    "y_pred_train_rf = random_forest.predict(X_train)\n",
    "y_pred_test_rf = random_forest.predict(X_test)\n",
    "\n",
    "train_mse_rf = mean_squared_error(y_train, y_pred_train_rf)\n",
    "test_mse_rf = mean_squared_error(y_test, y_pred_test_rf)\n",
    "\n",
    "print(\"mean training error in acres:\", round(np.sqrt(train_mse_rf), 2))\n",
    "print(\"mean test error in acres:\", round(np.sqrt(test_mse_rf), 2))"
   ]
  },
  {
   "cell_type": "code",
   "execution_count": null,
   "metadata": {},
   "outputs": [],
   "source": []
  }
 ],
 "metadata": {
  "kernelspec": {
   "display_name": "base",
   "language": "python",
   "name": "python3"
  },
  "language_info": {
   "codemirror_mode": {
    "name": "ipython",
    "version": 3
   },
   "file_extension": ".py",
   "mimetype": "text/x-python",
   "name": "python",
   "nbconvert_exporter": "python",
   "pygments_lexer": "ipython3",
   "version": "3.11.7"
  }
 },
 "nbformat": 4,
 "nbformat_minor": 2
}
